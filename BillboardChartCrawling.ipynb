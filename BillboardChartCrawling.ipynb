{
 "cells": [
  {
   "cell_type": "code",
   "execution_count": 34,
   "metadata": {},
   "outputs": [],
   "source": [
    "# Scrapes the site http://billboardtop100of.com/ for all Billboard\n",
    "# Hot 100 year end chart songs (e.g., all Hot 100 songs in the year\n",
    "# end chart for 2014)\n",
    "\n",
    "\n",
    "#import urllib2\n",
    "import urllib.request\n",
    "from datetime import date\n",
    "from bs4 import BeautifulSoup\n",
    "from unidecode import unidecode\n",
    "from os.path import isfile"
   ]
  },
  {
   "cell_type": "code",
   "execution_count": 52,
   "metadata": {},
   "outputs": [],
   "source": [
    "def fetchEntries(self):\n",
    "    \"\"\"GETs the corresponding chart data from Billboard.com, then parses\n",
    "    the data using BeautifulSoup.\n",
    "    \"\"\"\n",
    "#     if not self.date:\n",
    "#         # Fetch latest chart\n",
    "#         url = 'http://www.billboard.com/charts/%s' % (self.name)\n",
    "#     else:\n",
    "#         url = 'http://www.billboard.com/charts/%s/%s' % (\n",
    "#             self.name, self.date)\n",
    "    bbSite_before = 'https://www.billboard.com/charts/year-end/'\n",
    "    bbSite_after = '/hot-100-songs'\n",
    "    y = 2017\n",
    "    \n",
    "    urllib.request.urlopen(bbSite_before + str(y) + bbSite_after)\n",
    "    html = response.read()\n",
    "    soup = BeautifulSoup(html, 'html.parser')\n"
   ]
  },
  {
   "cell_type": "code",
   "execution_count": 82,
   "metadata": {
    "scrolled": true
   },
   "outputs": [],
   "source": [
    "\n",
    "def fetchList():\n",
    "    # fetch initial raw from billbaord chart \n",
    "    bbSite_before = 'https://www.billboard.com/charts/year-end/'\n",
    "    bbSite_after = '/hot-100-songs'\n",
    "    y = 2017\n",
    "    response = urllib.request.urlopen(bbSite_before + str(y) + bbSite_after)\n",
    "    html = response.read()\n",
    "    soup = BeautifulSoup(html, 'html.parser')\n",
    "\n",
    "    # titles \n",
    "    title_list = []\n",
    "    titles = soup.findAll(\"div\", {\"class\": \"ye-chart-item__title\"})\n",
    "    for title in titles:\n",
    "        title_list.append(unidecode(title.text).strip('\\n'))\n",
    "\n",
    "    # artists\n",
    "    artist_list = []\n",
    "    artists = soup.findAll(\"div\", {\"class\": \"ye-chart-item__artist\"})\n",
    "    for artist in artists:\n",
    "        artist_list.append(unidecode(artist.text).strip('\\n'))\n",
    "        \n",
    "    return title_list,artist_list"
   ]
  },
  {
   "cell_type": "code",
   "execution_count": 86,
   "metadata": {},
   "outputs": [],
   "source": [
    "\n",
    "start_year = 1970\n",
    "\n",
    "curr_year = date.today().year\n",
    "# iterate to the current year - 1\n",
    "for y in range(2015, 2017):\n",
    "    fname = 'billboard100/' + str(y) + 'hot100.csv'\n",
    "#    if isfile(fname):\n",
    "#        continue\n",
    "    fp = open(fname, 'w')\n",
    "    title_list = []\n",
    "    artist_list = []\n",
    "    title_list, artist_list = fetchList()\n",
    "\n",
    "    for i in range(len(title_list)):\n",
    "        fp.write(str(i) + ',' + artist_list[i] + ',' + title_list[i] + '\\n')\n",
    "    fp.close()"
   ]
  },
  {
   "cell_type": "code",
   "execution_count": null,
   "metadata": {},
   "outputs": [],
   "source": []
  }
 ],
 "metadata": {
  "kernelspec": {
   "display_name": "Python 3",
   "language": "python",
   "name": "python3"
  },
  "language_info": {
   "codemirror_mode": {
    "name": "ipython",
    "version": 3
   },
   "file_extension": ".py",
   "mimetype": "text/x-python",
   "name": "python",
   "nbconvert_exporter": "python",
   "pygments_lexer": "ipython3",
   "version": "3.6.3"
  }
 },
 "nbformat": 4,
 "nbformat_minor": 2
}
