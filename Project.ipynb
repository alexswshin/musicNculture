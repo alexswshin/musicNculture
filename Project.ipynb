{
 "cells": [
  {
   "cell_type": "code",
   "execution_count": 1,
   "metadata": {},
   "outputs": [],
   "source": [
    "import numpy as np\n",
    "import scipy as sp\n",
    "import matplotlib as mpl\n",
    "import matplotlib.cm as cm\n",
    "import matplotlib.pyplot as plt\n",
    "import pandas as pd"
   ]
  },
  {
   "cell_type": "code",
   "execution_count": 1,
   "metadata": {},
   "outputs": [
    {
     "name": "stdout",
     "output_type": "stream",
     "text": [
      "\n",
      "The following command must be run outside of the IPython shell:\n",
      "\n",
      "    $ pip install billboard.py\n",
      "\n",
      "The Python package manager (pip) can only be used from outside of IPython.\n",
      "Please reissue the `pip` command in a separate terminal or command prompt.\n",
      "\n",
      "See the Python documentation for more informations on how to install packages:\n",
      "\n",
      "    https://docs.python.org/3/installing/\n"
     ]
    }
   ],
   "source": [
    "# TODO \n",
    "# pip install billboard.py"
   ]
  },
  {
   "cell_type": "code",
   "execution_count": 2,
   "metadata": {},
   "outputs": [],
   "source": [
    "import billboard"
   ]
  },
  {
   "cell_type": "code",
   "execution_count": 3,
   "metadata": {},
   "outputs": [],
   "source": [
    "chart = billboard.ChartData('hot-100')"
   ]
  },
  {
   "cell_type": "code",
   "execution_count": 4,
   "metadata": {},
   "outputs": [
    {
     "data": {
      "text/plain": [
       "hot-100 chart from 2018-04-14\n",
       "-----------------------------\n",
       "1. 'God's Plan' by Drake\n",
       "2. 'Meant To Be' by Bebe Rexha & Florida Georgia Line\n",
       "3. 'Psycho' by Post Malone Featuring Ty Dolla $ign\n",
       "4. 'Call Out My Name' by The Weeknd\n",
       "5. 'Look Alive' by BlocBoy JB Featuring Drake\n",
       "6. 'The Middle' by Zedd, Maren Morris & Grey\n",
       "7. 'Perfect' by Ed Sheeran\n",
       "8. 'Finesse' by Bruno Mars & Cardi B\n",
       "9. 'Freaky Friday' by Lil Dicky Featuring Chris Brown\n",
       "10. 'Walk It Talk It' by Migos Featuring Drake\n",
       "11. 'Havana' by Camila Cabello Featuring Young Thug\n",
       "12. 'Mine' by Bazzi\n",
       "13. 'Plug Walk' by Rich The Kid\n",
       "14. 'Never Be The Same' by Camila Cabello\n",
       "15. 'Pray For Me' by The Weeknd & Kendrick Lamar\n",
       "16. 'Be Careful' by Cardi B\n",
       "17. 'Stir Fry' by Migos\n",
       "18. 'Sad!' by XXXTentacion\n",
       "19. 'All The Stars' by Kendrick Lamar & SZA\n",
       "20. 'Ric Flair Drip' by Offset & Metro Boomin\n",
       "21. 'Rockstar' by Post Malone Featuring 21 Savage\n",
       "22. 'New Rules' by Dua Lipa\n",
       "23. 'Whatever It Takes' by Imagine Dragons\n",
       "24. 'Let You Down' by NF\n",
       "25. 'Friends' by Marshmello & Anne-Marie\n",
       "26. 'Try Me' by The Weeknd\n",
       "27. 'Wasted Times' by The Weeknd\n",
       "28. 'Heaven' by Kane Brown\n",
       "29. 'Thunder' by Imagine Dragons\n",
       "30. 'Wait' by Maroon 5\n",
       "31. 'In My Blood' by Shawn Mendes\n",
       "32. 'Him & I' by G-Eazy & Halsey\n",
       "33. 'Lights Down Low' by MAX Featuring gnash\n",
       "34. 'Powerglide' by Rae Sremmurd & Juicy J\n",
       "35. 'I Was Never There' by The Weeknd Featuring Gesaffelstein\n",
       "36. 'You Make It Easy' by Jason Aldean\n",
       "37. 'Say Something' by Justin Timberlake Featuring Chris Stapleton\n",
       "38. 'Feel It Still' by Portugal. The Man\n",
       "39. 'I Fall Apart' by Post Malone\n",
       "40. 'King's Dead' by Jay Rock, Kendrick Lamar, Future & James Blake\n",
       "41. 'New Freezer' by Rich The Kid Featuring Kendrick Lamar\n",
       "42. 'Bad At Love' by Halsey\n",
       "43. 'Hurt You' by The Weeknd Featuring Gesaffelstein\n",
       "44. 'Marry Me' by Thomas Rhett\n",
       "45. 'Medicine' by Queen Naija\n",
       "46. 'Delicate' by Taylor Swift\n",
       "47. 'X' by Nicky Jam x J Balvin\n",
       "48. 'Lemon' by N*E*R*D & Rihanna\n",
       "49. 'Most People Are Good' by Luke Bryan\n",
       "50. 'Singles You Up' by Jordan Davis\n",
       "51. 'Bartier Cardi' by Cardi B Featuring 21 Savage\n",
       "52. 'Privilege' by The Weeknd\n",
       "53. 'Japan' by Famous Dex\n",
       "54. 'Outside Today' by YoungBoy Never Broke Again\n",
       "55. 'No Excuses' by Meghan Trainor\n",
       "56. 'Love Lies' by Khalid & Normani\n",
       "57. 'IDGAF' by Dua Lipa\n",
       "58. 'Changes' by XXXTentacion\n",
       "59. 'Dura' by Daddy Yankee\n",
       "60. 'Billy' by 6ix9ine\n",
       "61. 'Zombie' by Bad Wolves\n",
       "62. 'Tell Me You Love Me' by Demi Lovato\n",
       "63. 'El Farsante' by Ozuna & Romeo Santos\n",
       "64. 'Broken Halos' by Chris Stapleton\n",
       "65. 'The Long Way' by Brett Eldredge\n",
       "66. 'Tequila' by Dan + Shay\n",
       "67. 'One Number Away' by Luke Combs\n",
       "68. 'Hardaway' by Derez De'Shon\n",
       "69. 'Everyday' by Logic & Marshmello\n",
       "70. 'Top Off' by DJ Khaled Featuring JAY Z, Future & B\n",
       "71. 'Moonlight' by XXXTentacion\n",
       "72. 'Sit Next To Me' by Foster The People\n",
       "73. 'I Like Me Better' by Lauv\n",
       "74. 'Sativa' by Jhene Aiko Featuring Swae Lee Or Rae Sremmurd\n",
       "75. 'All On Me' by Devin Dawson\n",
       "76. 'Five More Minutes' by Scotty McCreery\n",
       "77. 'Red Roses' by Lil Skies Featuring Landon Cube\n",
       "78. 'Boo'd Up' by Ella Mai\n",
       "79. 'She's With Me' by High Valley\n",
       "80. 'When We' by Tank\n",
       "81. 'I Lived It' by Blake Shelton\n",
       "82. 'Broken Clocks' by SZA\n",
       "83. 'Up Down' by Morgan Wallen Featuring Florida Georgia Line\n",
       "84. 'No Roots' by Alice Merton\n",
       "85. 'Nowadays' by Lil Skies Featuring Landon Cube\n",
       "86. 'Say Amen (Saturday Night)' by Panic! At The Disco\n",
       "87. 'No Smoke' by YoungBoy Never Broke Again\n",
       "88. 'Tempo' by Chris Brown\n",
       "89. 'OKRA' by Tyler, The Creator\n",
       "90. 'For The First Time' by Darius Rucker\n",
       "91. 'Echame La Culpa' by Luis Fonsi & Demi Lovato\n",
       "92. 'Take Back Home Girl' by Chris Lane Featuring Tori Kelly\n",
       "93. 'Written In The Sand' by Old Dominion\n",
       "94. 'Woman, Amen' by Dierks Bentley\n",
       "95. 'La Modelo' by Ozuna x Cardi B\n",
       "96. 'Proud' by 2 Chainz Featuring YG & Offset\n",
       "97. 'Beautiful Trauma' by P!nk\n",
       "98. 'NBAYoungboat' by Lil Yachty Featuring NBA YoungBoy\n",
       "99. 'Get You' by Daniel Caesar Featuring Kali Uchis\n",
       "100. 'Focus' by H.E.R."
      ]
     },
     "execution_count": 4,
     "metadata": {},
     "output_type": "execute_result"
    }
   ],
   "source": [
    "chart"
   ]
  },
  {
   "cell_type": "code",
   "execution_count": null,
   "metadata": {},
   "outputs": [],
   "source": []
  }
 ],
 "metadata": {
  "kernelspec": {
   "display_name": "Python 3",
   "language": "python",
   "name": "python3"
  },
  "language_info": {
   "codemirror_mode": {
    "name": "ipython",
    "version": 3
   },
   "file_extension": ".py",
   "mimetype": "text/x-python",
   "name": "python",
   "nbconvert_exporter": "python",
   "pygments_lexer": "ipython3",
   "version": "3.6.3"
  }
 },
 "nbformat": 4,
 "nbformat_minor": 2
}
