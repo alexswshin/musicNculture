{
 "cells": [
  {
   "cell_type": "code",
   "execution_count": 50,
   "metadata": {},
   "outputs": [],
   "source": [
    "#Lyric Sentiment Breakdown"
   ]
  },
  {
   "cell_type": "code",
   "execution_count": 2,
   "metadata": {},
   "outputs": [
    {
     "name": "stdout",
     "output_type": "stream",
     "text": [
      "[nltk_data] Downloading package wordnet to /home/jovyan/nltk_data...\n",
      "[nltk_data]   Package wordnet is already up-to-date!\n"
     ]
    }
   ],
   "source": [
    "import nltk\n",
    "from nltk.corpus import stopwords \n",
    "from nltk.stem.wordnet import WordNetLemmatizer\n",
    "from stop_words import get_stop_words\n",
    "nltk.download('wordnet')\n",
    "import string\n",
    "stop = get_stop_words('en')\n",
    "exclude = set(string.punctuation) \n",
    "lemma = WordNetLemmatizer()\n",
    "import pandas as pd\n",
    "import gensim\n",
    "from gensim import corpora\n",
    "import nltk.classify.util\n",
    "from nltk.classify import NaiveBayesClassifier\n",
    "from nltk.corpus import names\n"
   ]
  },
  {
   "cell_type": "code",
   "execution_count": 3,
   "metadata": {},
   "outputs": [],
   "source": [
    "DATA_PATH = '../data/'\n",
    "fname = DATA_PATH + 'billboard_1970_current.csv'\n",
    "df = pd.read_csv(fname,sep='@')"
   ]
  },
  {
   "cell_type": "code",
   "execution_count": 42,
   "metadata": {},
   "outputs": [],
   "source": [
    "def clean(doc):\n",
    "    stop_free = \" \".join([i for i in doc.lower().split() if i not in stop])\n",
    "    punc_free = ''.join(ch for ch in stop_free if ch not in exclude)\n",
    "    normalized = \" \".join(lemma.lemmatize(word) for word in punc_free.split())\n",
    "    normalized_split = normalized.split()\n",
    "    # deviding the lyric into verse 1 and verse 2\n",
    "    return [normalized_split[:int(len(normalized_split)/2)],normalized_split[int(len(normalized_split)/2):]]"
   ]
  },
  {
   "cell_type": "code",
   "execution_count": 53,
   "metadata": {},
   "outputs": [],
   "source": [
    "def corpusExtraction(lyric):\n",
    "    tmp = clean(lyric)\n",
    "    # Creating the term dictionary of our courpus, where every unique term is assigned an index. \n",
    "    dictionary = corpora.Dictionary(tmp)\n",
    "\n",
    "    # Converting list of documents (corpus) into Document Term Matrix using dictionary prepared above.\n",
    "    doc_term_matrix = [dictionary.doc2bow(doc) for doc in tmp]\n",
    "\n",
    "    # Creating the object for LDA model using gensim library\n",
    "    Lda = gensim.models.ldamodel.LdaModel\n",
    "\n",
    "    # Running and Trainign LDA model on the document term matrix.\n",
    "    ldamodel = Lda(doc_term_matrix, num_topics=3, id2word = dictionary, passes=50)\n",
    "    print(ldamodel.print_topics(num_topics=4, num_words=3))\n",
    "    \n",
    "# https://www.analyticsvidhya.com/blog/2016/08/beginners-guide-to-topic-modeling-in-python/"
   ]
  },
  {
   "cell_type": "code",
   "execution_count": 92,
   "metadata": {},
   "outputs": [],
   "source": [
    "def topicModelling(artist, title):\n",
    "    lyric = df.loc[(df.artist == artist) & (df.title == title),['lyric']].values[0][0]\n",
    "    corpusExtraction(lyric)"
   ]
  },
  {
   "cell_type": "code",
   "execution_count": 93,
   "metadata": {},
   "outputs": [
    {
     "name": "stdout",
     "output_type": "stream",
     "text": [
      "[(0, '0.089*\"na\" + 0.069*\"change\" + 0.060*\"yeah\"'), (1, '0.009*\"time\" + 0.009*\"right\" + 0.009*\"heart\"'), (2, '0.045*\"make\" + 0.045*\"change\" + 0.045*\"na\"')]\n"
     ]
    }
   ],
   "source": [
    "topicModelling('Michael Jackson', 'Man In The Mirror')"
   ]
  },
  {
   "cell_type": "code",
   "execution_count": 56,
   "metadata": {},
   "outputs": [],
   "source": [
    "positive_vocab = [ 'awesome', 'outstanding', 'fantastic', 'terrific', 'good', 'nice', 'great', ':)', 'heart' ]\n",
    "negative_vocab = [ 'bad', 'terrible','useless', 'hate', ':(' ]\n",
    "neutral_vocab = [ 'movie','the','sound','was','is','actors','did','know','words','not' ]"
   ]
  },
  {
   "cell_type": "code",
   "execution_count": 88,
   "metadata": {},
   "outputs": [],
   "source": [
    "def word_feats(words):\n",
    "    return dict([(word, True) for word in words])\n",
    "\n",
    "def sentimentAnalysisHelper(lyric):\n",
    "    # train positive and negative features\n",
    "    positive_features = [(word_feats(pos), 'pos') for pos in positive_vocab]\n",
    "    negative_features = [(word_feats(neg), 'neg') for neg in negative_vocab]\n",
    "    neutral_features = [(word_feats(neu), 'neu') for neu in neutral_vocab]\n",
    "    \n",
    "    train_set = negative_features + positive_features + neutral_features\n",
    "    classifier = NaiveBayesClassifier.train(train_set)\n",
    "\n",
    "    # setting up lyric materials\n",
    "    lyric = lyric.lower()\n",
    "    words = lyric.split(' ')\n",
    "    \n",
    "    # Sentiment analysis\n",
    "    neg = 0\n",
    "    pos = 0\n",
    "    for word in words:\n",
    "        classResult = classifier.classify( word_feats(word))\n",
    "        if classResult == 'neg':\n",
    "            neg = neg + 1\n",
    "        if classResult == 'pos':\n",
    "            pos = pos + 1\n",
    "\n",
    "    print('Positive: ' + str(round(float(pos)/len(words)*100,2)) + \"%\")\n",
    "    print('Negative: ' + str(round(float(neg)/len(words)*100,2)) + \"%\")"
   ]
  },
  {
   "cell_type": "code",
   "execution_count": 89,
   "metadata": {},
   "outputs": [],
   "source": [
    "def sentimentAnalysis(artist, title):\n",
    "    lyric = df.loc[(df.artist == artist) & (df.title == title),['lyric']].values[0][0]\n",
    "    sentimentAnalysisHelper(lyric)"
   ]
  },
  {
   "cell_type": "code",
   "execution_count": 90,
   "metadata": {},
   "outputs": [
    {
     "name": "stdout",
     "output_type": "stream",
     "text": [
      "Positive: 69.18%\n",
      "Negative: 7.06%\n"
     ]
    }
   ],
   "source": [
    "sentimentAnalysis('Michael Jackson', 'Man In The Mirror')"
   ]
  },
  {
   "cell_type": "code",
   "execution_count": 94,
   "metadata": {},
   "outputs": [
    {
     "name": "stdout",
     "output_type": "stream",
     "text": [
      "[(0, '0.009*\"time\" + 0.009*\"right\" + 0.009*\"heart\"'), (1, '0.045*\"make\" + 0.045*\"change\" + 0.045*\"na\"'), (2, '0.089*\"na\" + 0.069*\"change\" + 0.060*\"yeah\"')]\n"
     ]
    }
   ],
   "source": [
    "topicModelling('Michael Jackson', 'Man In The Mirror')"
   ]
  }
 ],
 "metadata": {
  "kernelspec": {
   "display_name": "Python 3",
   "language": "python",
   "name": "python3"
  },
  "language_info": {
   "codemirror_mode": {
    "name": "ipython",
    "version": 3
   },
   "file_extension": ".py",
   "mimetype": "text/x-python",
   "name": "python",
   "nbconvert_exporter": "python",
   "pygments_lexer": "ipython3",
   "version": "3.6.3"
  }
 },
 "nbformat": 4,
 "nbformat_minor": 2
}
