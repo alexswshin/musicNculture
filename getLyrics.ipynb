{
 "cells": [
  {
   "cell_type": "code",
   "execution_count": 57,
   "metadata": {},
   "outputs": [],
   "source": [
    "import requests\n",
    "from bs4 import BeautifulSoup\n",
    "import json\n",
    "import types\n",
    "from os import listdir\n",
    "from os.path import isfile, join\n",
    "from unidecode import unidecode\n",
    "\n",
    "LYRICSSITE = 'http://www.lyrics.wikia.com/api.php'\n",
    "CHARTS_PATH = 'billboard100/'\n",
    "LYRICS_PATH = 'lyrics/'\n",
    "NUMBER, ARTIST, SONG = range(3)"
   ]
  },
  {
   "cell_type": "code",
   "execution_count": 71,
   "metadata": {},
   "outputs": [],
   "source": [
    "def replace_with_newlines(elem,lyrics_soup):\n",
    "    lyric = ''\n",
    "    for br in lyrics_soup.findAll('br'):\n",
    "        next_s = br.nextSibling\n",
    "        next2_s = next_s.nextSibling\n",
    "        text = str(next_s).strip()\n",
    "        if \"<\" in text:\n",
    "            pass\n",
    "        else:\n",
    "            lyric = \" \".join([lyric,text])\n",
    "    return lyric"
   ]
  },
  {
   "cell_type": "code",
   "execution_count": 72,
   "metadata": {},
   "outputs": [
    {
     "ename": "UnicodeDecodeError",
     "evalue": "'utf-8' codec can't decode byte 0x87 in position 23: invalid start byte",
     "output_type": "error",
     "traceback": [
      "\u001b[0;31m---------------------------------------------------------------------------\u001b[0m",
      "\u001b[0;31mUnicodeDecodeError\u001b[0m                        Traceback (most recent call last)",
      "\u001b[0;32m<ipython-input-72-a92622ba8e3f>\u001b[0m in \u001b[0;36m<module>\u001b[0;34m()\u001b[0m\n\u001b[1;32m      4\u001b[0m     \u001b[0;31m#    f.close()\u001b[0m\u001b[0;34m\u001b[0m\u001b[0;34m\u001b[0m\u001b[0m\n\u001b[1;32m      5\u001b[0m     \u001b[0;31m#    continue\u001b[0m\u001b[0;34m\u001b[0m\u001b[0;34m\u001b[0m\u001b[0m\n\u001b[0;32m----> 6\u001b[0;31m     \u001b[0msongs\u001b[0m \u001b[0;34m=\u001b[0m \u001b[0mf\u001b[0m\u001b[0;34m.\u001b[0m\u001b[0mreadlines\u001b[0m\u001b[0;34m(\u001b[0m\u001b[0;34m)\u001b[0m\u001b[0;34m\u001b[0m\u001b[0m\n\u001b[0m\u001b[1;32m      7\u001b[0m     \u001b[0mf\u001b[0m\u001b[0;34m.\u001b[0m\u001b[0mclose\u001b[0m\u001b[0;34m(\u001b[0m\u001b[0;34m)\u001b[0m\u001b[0;34m\u001b[0m\u001b[0m\n\u001b[1;32m      8\u001b[0m     \u001b[0myear\u001b[0m \u001b[0;34m=\u001b[0m \u001b[0mfile\u001b[0m\u001b[0;34m.\u001b[0m\u001b[0mstrip\u001b[0m\u001b[0;34m(\u001b[0m\u001b[0;34m'hot100.csv'\u001b[0m\u001b[0;34m)\u001b[0m\u001b[0;34m\u001b[0m\u001b[0m\n",
      "\u001b[0;32m/opt/conda/lib/python3.6/codecs.py\u001b[0m in \u001b[0;36mdecode\u001b[0;34m(self, input, final)\u001b[0m\n\u001b[1;32m    319\u001b[0m         \u001b[0;31m# decode input (taking the buffer into account)\u001b[0m\u001b[0;34m\u001b[0m\u001b[0;34m\u001b[0m\u001b[0m\n\u001b[1;32m    320\u001b[0m         \u001b[0mdata\u001b[0m \u001b[0;34m=\u001b[0m \u001b[0mself\u001b[0m\u001b[0;34m.\u001b[0m\u001b[0mbuffer\u001b[0m \u001b[0;34m+\u001b[0m \u001b[0minput\u001b[0m\u001b[0;34m\u001b[0m\u001b[0m\n\u001b[0;32m--> 321\u001b[0;31m         \u001b[0;34m(\u001b[0m\u001b[0mresult\u001b[0m\u001b[0;34m,\u001b[0m \u001b[0mconsumed\u001b[0m\u001b[0;34m)\u001b[0m \u001b[0;34m=\u001b[0m \u001b[0mself\u001b[0m\u001b[0;34m.\u001b[0m\u001b[0m_buffer_decode\u001b[0m\u001b[0;34m(\u001b[0m\u001b[0mdata\u001b[0m\u001b[0;34m,\u001b[0m \u001b[0mself\u001b[0m\u001b[0;34m.\u001b[0m\u001b[0merrors\u001b[0m\u001b[0;34m,\u001b[0m \u001b[0mfinal\u001b[0m\u001b[0;34m)\u001b[0m\u001b[0;34m\u001b[0m\u001b[0m\n\u001b[0m\u001b[1;32m    322\u001b[0m         \u001b[0;31m# keep undecoded input until the next call\u001b[0m\u001b[0;34m\u001b[0m\u001b[0;34m\u001b[0m\u001b[0m\n\u001b[1;32m    323\u001b[0m         \u001b[0mself\u001b[0m\u001b[0;34m.\u001b[0m\u001b[0mbuffer\u001b[0m \u001b[0;34m=\u001b[0m \u001b[0mdata\u001b[0m\u001b[0;34m[\u001b[0m\u001b[0mconsumed\u001b[0m\u001b[0;34m:\u001b[0m\u001b[0;34m]\u001b[0m\u001b[0;34m\u001b[0m\u001b[0m\n",
      "\u001b[0;31mUnicodeDecodeError\u001b[0m: 'utf-8' codec can't decode byte 0x87 in position 23: invalid start byte"
     ]
    }
   ],
   "source": [
    "for file in files:\n",
    "    f = open(CHARTS_PATH+file)\n",
    "    #if isfile(LYRICS_PATH+file):\n",
    "    #    f.close()\n",
    "    #    continue\n",
    "    songs = f.readlines()\n",
    "    f.close()\n",
    "    year = file.strip('hot100.csv')\n",
    "    lyrics_file = open(LYRICS_PATH+file, 'w') # truncates existing file\n",
    "    \n",
    "    for song in songs:\n",
    "        song_params = song.split(',')\n",
    "\n",
    "        params = {\n",
    "            'action': 'lyrics',\n",
    "            'artist': song_params[ARTIST],\n",
    "            'song': song_params[SONG]\n",
    "        }\n",
    "\n",
    "        link_r = requests.get(LYRICSSITE, params = params)\n",
    "\n",
    "        link_soup = BeautifulSoup(link_r.text, 'html.parser')\n",
    "        link = 0\n",
    "        anc = link_soup.a\n",
    "\n",
    "        if link_soup.a:\n",
    "            if link_soup.a.has_attr('href'):\n",
    "                link = anc['href']\n",
    "        if link != 0:\n",
    "            lyrics_r = requests.get(link)\n",
    "\n",
    "            lyrics_soup = BeautifulSoup(lyrics_r.text, 'html.parser')\n",
    "\n",
    "            comments = lyrics_soup.findAll(text = lambda text: isinstance(text, Comment))\n",
    "            # extract comments\n",
    "            [c.extract() for c in comments]\n",
    "\n",
    "            # extract <script> tags\n",
    "            [s.extract() for s in lyrics_soup('script')]\n",
    "\n",
    "            lyrics_divs = lyrics_soup.findAll('div', { 'class': 'lyricbox'})\n",
    "\n",
    "            line = song.rstrip('\\n') + ','\n",
    "            line = \",\".join([year,line])\n",
    "            for div in lyrics_divs:\n",
    "                lyric = replace_with_newlines(div,lyrics_soup)\n",
    "                line += lyric\n",
    "            line += '\\n'\n",
    "            lyrics_file.write(line)    \n",
    "    lyrics_file.close()\n",
    "\n",
    "\n",
    "'''\n",
    "params = {\n",
    "        'action': 'lyrics',\n",
    "        'artist': 'j cole',\n",
    "        'song': 'no role modelz'\n",
    "        }\n",
    "\n",
    "'''\n",
    "#Resource: https://github.com/alexmwu/hot100"
   ]
  },
  {
   "cell_type": "code",
   "execution_count": null,
   "metadata": {},
   "outputs": [],
   "source": []
  },
  {
   "cell_type": "code",
   "execution_count": null,
   "metadata": {},
   "outputs": [],
   "source": []
  }
 ],
 "metadata": {
  "kernelspec": {
   "display_name": "Python 3",
   "language": "python",
   "name": "python3"
  },
  "language_info": {
   "codemirror_mode": {
    "name": "ipython",
    "version": 3
   },
   "file_extension": ".py",
   "mimetype": "text/x-python",
   "name": "python",
   "nbconvert_exporter": "python",
   "pygments_lexer": "ipython3",
   "version": "3.6.3"
  }
 },
 "nbformat": 4,
 "nbformat_minor": 2
}
